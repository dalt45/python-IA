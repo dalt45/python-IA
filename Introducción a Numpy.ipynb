{
 "cells": [
  {
   "cell_type": "markdown",
   "metadata": {},
   "source": [
    "<p style=\"font-family: Arial; font-size:3.75em;color:purple; font-style:bold\"><br>\n",
    "Introducción a numpy:\n",
    "</p><br>\n",
    "\n",
    "### Características:\n",
    "\n",
    "- **ndarreglos:** arreglos n-dimensionales del mismo tipo de datos que son más eficientes en espacio y tiempo. Hay métodos hechos para los arreglos numpy sin la necesidad de usar loops. \n",
    "- **Broadcasting:** Herramienta para poder hacer operaciones con arreglos de distintas dimensiones y tamaños.\n",
    "- **Vectorización:** Capacidad par realizar multiples operaciones numéricas con los arregloss numpy.\n",
    "\n",
    "<b>Recursos adicionales:</b><br>\n",
    "<a href=\"https://docs.scipy.org/doc/numpy/reference/\">Numpy Documentación</a><br>\n",
    "\n",
    "<i>Introducción a numpy con python</i> por Ramiro <br>\n",
    "<i>Introducción a numpy con python</i> por Albert\n",
    "\n",
    "<a href=\"https://www.dataquest.io/blog/jupyter-notebook-tips-tricks-shortcuts/\"> Jupyter Shortcuts</a><br>\n",
    "\n",
    "``Cmd + Shift + P``"
   ]
  },
  {
   "cell_type": "markdown",
   "metadata": {},
   "source": [
    "### nd arreglo numpy"
   ]
  },
  {
   "cell_type": "code",
   "execution_count": 9,
   "metadata": {},
   "outputs": [
    {
     "name": "stdout",
     "output_type": "stream",
     "text": [
      "<class 'numpy.ndarray'>\n"
     ]
    }
   ],
   "source": [
    "import numpy as np #importa la librería de numpy\n",
    "\n",
    "an_array = np.array([3, 33, 333]) \n",
    "# Tipo de dato\n",
    "print(type(an_array))"
   ]
  },
  {
   "cell_type": "code",
   "execution_count": 10,
   "metadata": {},
   "outputs": [
    {
     "data": {
      "text/plain": [
       "(3,)"
      ]
     },
     "execution_count": 10,
     "metadata": {},
     "output_type": "execute_result"
    }
   ],
   "source": [
    "# Obtener la dimensión del arreglo numpy\n",
    "\n",
    "np.shape(an_array)"
   ]
  },
  {
   "cell_type": "code",
   "execution_count": 20,
   "metadata": {},
   "outputs": [
    {
     "ename": "TypeError",
     "evalue": "ufunc 'add' did not contain a loop with signature matching types dtype('<U32') dtype('<U32') dtype('<U32')",
     "output_type": "error",
     "traceback": [
      "\u001b[0;31m---------------------------------------------------------------------------\u001b[0m",
      "\u001b[0;31mTypeError\u001b[0m                                 Traceback (most recent call last)",
      "\u001b[0;32m<ipython-input-20-60040f30f42c>\u001b[0m in \u001b[0;36m<module>\u001b[0;34m\u001b[0m\n\u001b[1;32m      3\u001b[0m \u001b[0ma\u001b[0m \u001b[0;34m=\u001b[0m \u001b[0mnp\u001b[0m\u001b[0;34m.\u001b[0m\u001b[0marray\u001b[0m\u001b[0;34m(\u001b[0m\u001b[0;34m[\u001b[0m\u001b[0;36m2\u001b[0m\u001b[0;34m,\u001b[0m\u001b[0;34m'fo'\u001b[0m\u001b[0;34m,\u001b[0m\u001b[0;36m5.3\u001b[0m\u001b[0;34m]\u001b[0m\u001b[0;34m)\u001b[0m\u001b[0;34m\u001b[0m\u001b[0;34m\u001b[0m\u001b[0m\n\u001b[1;32m      4\u001b[0m \u001b[0mb\u001b[0m \u001b[0;34m=\u001b[0m \u001b[0mnp\u001b[0m\u001b[0;34m.\u001b[0m\u001b[0marray\u001b[0m\u001b[0;34m(\u001b[0m\u001b[0;34m[\u001b[0m\u001b[0;36m2\u001b[0m\u001b[0;34m,\u001b[0m\u001b[0;36m5\u001b[0m\u001b[0;34m,\u001b[0m\u001b[0;36m5.3\u001b[0m\u001b[0;34m]\u001b[0m\u001b[0;34m)\u001b[0m\u001b[0;34m\u001b[0m\u001b[0;34m\u001b[0m\u001b[0m\n\u001b[0;32m----> 5\u001b[0;31m \u001b[0mc\u001b[0m \u001b[0;34m=\u001b[0m \u001b[0ma\u001b[0m\u001b[0;34m+\u001b[0m\u001b[0mb\u001b[0m\u001b[0;34m\u001b[0m\u001b[0;34m\u001b[0m\u001b[0m\n\u001b[0m\u001b[1;32m      6\u001b[0m \u001b[0mprint\u001b[0m\u001b[0;34m(\u001b[0m\u001b[0mtype\u001b[0m\u001b[0;34m(\u001b[0m\u001b[0mc\u001b[0m\u001b[0;34m)\u001b[0m\u001b[0;34m)\u001b[0m\u001b[0;34m\u001b[0m\u001b[0;34m\u001b[0m\u001b[0m\n",
      "\u001b[0;31mTypeError\u001b[0m: ufunc 'add' did not contain a loop with signature matching types dtype('<U32') dtype('<U32') dtype('<U32')"
     ]
    }
   ],
   "source": [
    "# No pueden ser de distintos tipos de datos\n",
    "\n",
    "a = np.array([2,'fo',5.3]) \n",
    "b = np.array([2,5,5.3])\n",
    "c = a+b\n",
    "print(type(c))"
   ]
  },
  {
   "cell_type": "markdown",
   "metadata": {},
   "source": [
    "### Accediendo a los elementos del arreglo"
   ]
  },
  {
   "cell_type": "code",
   "execution_count": 36,
   "metadata": {},
   "outputs": [
    {
     "name": "stdout",
     "output_type": "stream",
     "text": [
      "3 33 333\n"
     ]
    }
   ],
   "source": [
    "print(an_array[0], an_array[1], an_array[2]) "
   ]
  },
  {
   "cell_type": "code",
   "execution_count": 37,
   "metadata": {},
   "outputs": [
    {
     "name": "stdout",
     "output_type": "stream",
     "text": [
      "[888  33 333]\n"
     ]
    }
   ],
   "source": [
    "#Los arreglso son mutables\n",
    "an_array[0] =888            # ndarrays are mutable, here we change an element of the array\n",
    "\n",
    "print(an_array)\n"
   ]
  },
  {
   "cell_type": "markdown",
   "metadata": {},
   "source": [
    "### Matrices"
   ]
  },
  {
   "cell_type": "code",
   "execution_count": 39,
   "metadata": {},
   "outputs": [
    {
     "name": "stdout",
     "output_type": "stream",
     "text": [
      "[[11 12 13]\n",
      " [21 22 23]\n",
      " [ 2  5  7]]\n"
     ]
    }
   ],
   "source": [
    "matriz = np.array([[11,12,13],[21,22,23],[2,5,7]])\n",
    "print(matriz)"
   ]
  },
  {
   "cell_type": "code",
   "execution_count": 41,
   "metadata": {},
   "outputs": [
    {
     "name": "stdout",
     "output_type": "stream",
     "text": [
      "Accesando a los elementos: [0,0], [0,1], and [1,0] de la matriz:  11 ,  12 ,  21\n"
     ]
    }
   ],
   "source": [
    "print(\"Accesando a los elementos: [0,0], [0,1], and [1,0] de la matriz: \", matriz[0, 0], \", \",matriz[0, 1],\", \", matriz[1, 0])\n"
   ]
  },
  {
   "cell_type": "code",
   "execution_count": 42,
   "metadata": {},
   "outputs": [
    {
     "name": "stdout",
     "output_type": "stream",
     "text": [
      "[[0. 0.]\n",
      " [0. 0.]]\n"
     ]
    }
   ],
   "source": [
    "# Matriz de 2x2 ceros\n",
    "ex1 = np.zeros((2,2))      \n",
    "print(ex1) "
   ]
  },
  {
   "cell_type": "code",
   "execution_count": 43,
   "metadata": {},
   "outputs": [
    {
     "name": "stdout",
     "output_type": "stream",
     "text": [
      "[[9. 9.]\n",
      " [9. 9.]]\n"
     ]
    }
   ],
   "source": [
    "# Matriz 2x2 de 9.0\n",
    "ex2 = np.full((2,2), 9.0)  \n",
    "print(ex2)"
   ]
  },
  {
   "cell_type": "code",
   "execution_count": 47,
   "metadata": {},
   "outputs": [
    {
     "name": "stdout",
     "output_type": "stream",
     "text": [
      "[[1. 0. 0. 0.]\n",
      " [0. 1. 0. 0.]\n",
      " [0. 0. 1. 0.]\n",
      " [0. 0. 0. 1.]]\n"
     ]
    }
   ],
   "source": [
    "# Matriz 4x4 de diagonal de 1 y  los demás 0\n",
    "ex3 = np.eye(4,4)\n",
    "print(ex3) "
   ]
  },
  {
   "cell_type": "code",
   "execution_count": 49,
   "metadata": {},
   "outputs": [
    {
     "name": "stdout",
     "output_type": "stream",
     "text": [
      "[[1. 1.]\n",
      " [1. 1.]\n",
      " [1. 1.]\n",
      " [1. 1.]]\n"
     ]
    }
   ],
   "source": [
    "# Matriz de 1´s\n",
    "ex4 = np.ones((4,2))\n",
    "print(ex4)  "
   ]
  },
  {
   "cell_type": "markdown",
   "metadata": {},
   "source": [
    "### Indexing"
   ]
  },
  {
   "cell_type": "code",
   "execution_count": 64,
   "metadata": {},
   "outputs": [
    {
     "name": "stdout",
     "output_type": "stream",
     "text": [
      "[[11 12 13 14]\n",
      " [21 22 23 24]\n",
      " [31 32 33 34]]\n",
      "Index example:  13\n"
     ]
    }
   ],
   "source": [
    "# Matriz de 3x4\n",
    "m = np.array([[11,12,13,14], [21,22,23,24], [31,32,33,34]])\n",
    "print(m)\n",
    "index_example = m[0,2]\n",
    "print(\"Index example: \",index_example)"
   ]
  },
  {
   "cell_type": "markdown",
   "metadata": {},
   "source": [
    "### El operador : significa que toma todos los elementos hasta el final.\n",
    "\n",
    "``data[desde:hasta]``\n",
    "\n",
    "* Un elemento antes de \"hasta\"\n",
    "\n",
    "```matriz[0:1] toma sólo el índice 0, es del 0 al índice 1, pero no toma el límite superior````\n",
    "* Si hay índices negativos, se refieren a el índice empezando del final\n",
    "\n",
    "```matriz[-2:] toma desde los último dos elementos iniciando desde el último elemento hasta el final```"
   ]
  },
  {
   "cell_type": "code",
   "execution_count": 55,
   "metadata": {},
   "outputs": [
    {
     "name": "stdout",
     "output_type": "stream",
     "text": [
      " a[10:]  =  [12 13 14]\n"
     ]
    }
   ],
   "source": [
    "\n",
    "print(\" m[0,1:]  = \",m[0,1:]) "
   ]
  },
  {
   "cell_type": "code",
   "execution_count": 59,
   "metadata": {},
   "outputs": [
    {
     "name": "stdout",
     "output_type": "stream",
     "text": [
      "[[11 12 13]\n",
      " [21 22 23]\n",
      " [31 32 33]]\n"
     ]
    }
   ],
   "source": [
    "# Selecciona todas las filas excepto la última columna\n",
    "except_last_column = m[:, :-1]\n",
    "print(except_last_column)"
   ]
  },
  {
   "cell_type": "code",
   "execution_count": 60,
   "metadata": {},
   "outputs": [
    {
     "name": "stdout",
     "output_type": "stream",
     "text": [
      "[14 24 34]\n"
     ]
    }
   ],
   "source": [
    "# Selecciona todas las filas y sólo la última columna\n",
    "just_last_column = m[:, -1]\n",
    "print(just_last_column)"
   ]
  },
  {
   "cell_type": "markdown",
   "metadata": {},
   "source": [
    "### Index booleano"
   ]
  },
  {
   "cell_type": "code",
   "execution_count": 54,
   "metadata": {},
   "outputs": [
    {
     "name": "stdout",
     "output_type": "stream",
     "text": [
      "[ 80 100]\n"
     ]
    }
   ],
   "source": [
    "ar = np.array([10, 40, 80, 50, 100]) \n",
    "print(ar[ar>50])"
   ]
  },
  {
   "cell_type": "markdown",
   "metadata": {},
   "source": [
    "### Reshape"
   ]
  },
  {
   "cell_type": "code",
   "execution_count": 65,
   "metadata": {},
   "outputs": [
    {
     "data": {
      "text/plain": [
       "(3, 4)"
      ]
     },
     "execution_count": 65,
     "metadata": {},
     "output_type": "execute_result"
    }
   ],
   "source": [
    "m.shape"
   ]
  },
  {
   "cell_type": "code",
   "execution_count": 71,
   "metadata": {},
   "outputs": [
    {
     "name": "stdout",
     "output_type": "stream",
     "text": [
      "New m reshaped: [[11 12 13]\n",
      " [14 21 22]\n",
      " [23 24 31]\n",
      " [32 33 34]] \n",
      " shape: (4, 3)\n"
     ]
    }
   ],
   "source": [
    "reshaped_m = m.reshape(4,3)\n",
    "print(\"New m reshaped:\",reshaped_m, \"\\n shape:\",reshaped_m.shape)"
   ]
  },
  {
   "cell_type": "markdown",
   "metadata": {},
   "source": [
    "### Operaciones aritméticas "
   ]
  },
  {
   "cell_type": "code",
   "execution_count": 72,
   "metadata": {},
   "outputs": [],
   "source": [
    "x = np.array([[111,112],[121,122]])\n",
    "y = np.array([[211.1,212.1],[221.1,222.1]])"
   ]
  },
  {
   "cell_type": "code",
   "execution_count": 75,
   "metadata": {},
   "outputs": [
    {
     "name": "stdout",
     "output_type": "stream",
     "text": [
      "suma:\n",
      " [[322.1 324.1]\n",
      " [342.1 344.1]] \n",
      "\n"
     ]
    }
   ],
   "source": [
    "# suma\n",
    "# o x+y\n",
    "print(\"suma:\\n\", np.add(x, y)) "
   ]
  },
  {
   "cell_type": "code",
   "execution_count": 76,
   "metadata": {},
   "outputs": [
    {
     "name": "stdout",
     "output_type": "stream",
     "text": [
      "resta:\n",
      " [[-100.1 -100.1]\n",
      " [-100.1 -100.1]]\n"
     ]
    }
   ],
   "source": [
    "# resta\n",
    "# o x-y\n",
    "print(\"resta:\\n\", np.subtract(x, y))"
   ]
  },
  {
   "cell_type": "code",
   "execution_count": 95,
   "metadata": {},
   "outputs": [
    {
     "name": "stdout",
     "output_type": "stream",
     "text": [
      "resta:\n",
      " [[23432.1 23755.2]\n",
      " [26753.1 27096.2]]\n",
      "dot:\n",
      " [[48195.3 48418.3]\n",
      " [52517.3 52760.3]]\n"
     ]
    }
   ],
   "source": [
    "# multiplicación\n",
    "# o x*y\n",
    "print(\"multiplicación:\\n\", np.multiply(x, y))\n",
    "# producto punto, donde numpy sólo que lo maneja como un producto matricial\n",
    "print(\"dot:\\n\",np.dot(x,y))"
   ]
  },
  {
   "cell_type": "code",
   "execution_count": 78,
   "metadata": {},
   "outputs": [
    {
     "name": "stdout",
     "output_type": "stream",
     "text": [
      "resta:\n",
      " [[0.52581715 0.52805281]\n",
      " [0.54726368 0.54930212]]\n"
     ]
    }
   ],
   "source": [
    "# división\n",
    "# o x/y\n",
    "print(\"división:\\n\", np.divide(x, y))"
   ]
  },
  {
   "cell_type": "code",
   "execution_count": 79,
   "metadata": {},
   "outputs": [
    {
     "name": "stdout",
     "output_type": "stream",
     "text": [
      "[[10.53565375 10.58300524]\n",
      " [11.         11.04536102]]\n"
     ]
    }
   ],
   "source": [
    "# raíz cuadrada\n",
    "print(np.sqrt(x))"
   ]
  },
  {
   "cell_type": "code",
   "execution_count": 80,
   "metadata": {},
   "outputs": [
    {
     "name": "stdout",
     "output_type": "stream",
     "text": [
      "[[1.60948707e+48 4.37503945e+48]\n",
      " [3.54513118e+52 9.63666567e+52]]\n"
     ]
    }
   ],
   "source": [
    "# exponencial (e ** x)\n",
    "print(np.exp(x))"
   ]
  },
  {
   "cell_type": "markdown",
   "metadata": {},
   "source": [
    "## Operaciones estadísticas básicas\n",
    "* Tener en cuenta que:\n",
    "\n",
    "``index = 0, son las filas``\n",
    "\n",
    "``index = 1, son las columnas``"
   ]
  },
  {
   "cell_type": "code",
   "execution_count": 81,
   "metadata": {},
   "outputs": [
    {
     "name": "stdout",
     "output_type": "stream",
     "text": [
      "[[ -0.47892828 -17.43629767 -16.4709797  -14.17255235  -6.72902984]\n",
      " [ -7.51772254  -8.11591385   2.45309382   4.2479872  -12.21870456]]\n"
     ]
    }
   ],
   "source": [
    "# Generamos una matriz  random de 2x4\n",
    "random_matriz = 10 * np.random.randn(2,5)\n",
    "print(random_matriz)"
   ]
  },
  {
   "cell_type": "code",
   "execution_count": 84,
   "metadata": {},
   "outputs": [
    {
     "name": "stdout",
     "output_type": "stream",
     "text": [
      "promedio para todos los elementos: -7.643904776487107\n"
     ]
    }
   ],
   "source": [
    "# promedio para todos los elementos\n",
    "print(\"promedio para todos los elementos:\",random_matriz.mean())"
   ]
  },
  {
   "cell_type": "code",
   "execution_count": 85,
   "metadata": {},
   "outputs": [
    {
     "name": "stdout",
     "output_type": "stream",
     "text": [
      "[-11.05755757  -4.23025198]\n"
     ]
    }
   ],
   "source": [
    "# Promedio por filas\n",
    "print(random_matriz.mean(axis = 1))"
   ]
  },
  {
   "cell_type": "code",
   "execution_count": 87,
   "metadata": {},
   "outputs": [
    {
     "name": "stdout",
     "output_type": "stream",
     "text": [
      "[ -3.99832541 -12.77610576  -7.00894294  -4.96228257  -9.4738672 ]\n"
     ]
    }
   ],
   "source": [
    "# Promedio por columnas\n",
    "print(random_matriz.mean(axis = 0))"
   ]
  },
  {
   "cell_type": "code",
   "execution_count": 88,
   "metadata": {},
   "outputs": [
    {
     "name": "stdout",
     "output_type": "stream",
     "text": [
      "[-14.17255235  -7.51772254]\n"
     ]
    }
   ],
   "source": [
    "# mediana por fila\n",
    "print(np.median(random_matriz, axis = 1))"
   ]
  },
  {
   "cell_type": "code",
   "execution_count": 89,
   "metadata": {},
   "outputs": [
    {
     "name": "stdout",
     "output_type": "stream",
     "text": [
      "[6.48598808 6.42290987]\n"
     ]
    }
   ],
   "source": [
    "# Desviación estándar por fila\n",
    "print(np.std(random_matriz, axis = 1))"
   ]
  },
  {
   "cell_type": "markdown",
   "metadata": {},
   "source": [
    "### Sorting"
   ]
  },
  {
   "cell_type": "code",
   "execution_count": 98,
   "metadata": {},
   "outputs": [
    {
     "name": "stdout",
     "output_type": "stream",
     "text": [
      "[[-17.43629767 -16.4709797  -14.17255235  -6.72902984  -0.47892828]\n",
      " [-12.21870456  -8.11591385  -7.51772254   2.45309382   4.2479872 ]]\n",
      "[[ -0.47892828 -17.43629767 -16.4709797  -14.17255235  -6.72902984]\n",
      " [ -7.51772254  -8.11591385   2.45309382   4.2479872  -12.21870456]]\n"
     ]
    }
   ],
   "source": [
    "sorted = np.array(random_matriz)\n",
    "sorted.sort()\n",
    "print(sorted)\n"
   ]
  },
  {
   "cell_type": "markdown",
   "metadata": {},
   "source": [
    "**Encontrando Elementos únicos.**"
   ]
  },
  {
   "cell_type": "code",
   "execution_count": 99,
   "metadata": {},
   "outputs": [
    {
     "name": "stdout",
     "output_type": "stream",
     "text": [
      "[1 2 4]\n"
     ]
    }
   ],
   "source": [
    "r = np.array([1,2,1,4,2,1,4,2])\n",
    "\n",
    "print(np.unique(r))"
   ]
  },
  {
   "cell_type": "code",
   "execution_count": 100,
   "metadata": {},
   "outputs": [
    {
     "name": "stdout",
     "output_type": "stream",
     "text": [
      "['caja' 'silla' 'mesa'] ['lámpara' 'mesa' 'silla']\n"
     ]
    }
   ],
   "source": [
    "s1 = np.array(['caja','silla','mesa'])\n",
    "s2 = np.array(['lámpara','mesa','silla'])\n",
    "print(s1, s2)"
   ]
  },
  {
   "cell_type": "code",
   "execution_count": 101,
   "metadata": {},
   "outputs": [
    {
     "name": "stdout",
     "output_type": "stream",
     "text": [
      "['mesa' 'silla']\n"
     ]
    }
   ],
   "source": [
    "print( np.intersect1d(s1, s2) ) "
   ]
  },
  {
   "cell_type": "code",
   "execution_count": 102,
   "metadata": {},
   "outputs": [
    {
     "name": "stdout",
     "output_type": "stream",
     "text": [
      "['caja']\n"
     ]
    }
   ],
   "source": [
    "print( np.setdiff1d(s1, s2) ) # Elementos de s1 que no están en s2"
   ]
  },
  {
   "cell_type": "code",
   "execution_count": 103,
   "metadata": {},
   "outputs": [
    {
     "name": "stdout",
     "output_type": "stream",
     "text": [
      "[False  True  True]\n"
     ]
    }
   ],
   "source": [
    "print( np.in1d(s1, s2) ) # Qué elementos de s1 está en s2 booleano"
   ]
  },
  {
   "cell_type": "markdown",
   "metadata": {},
   "source": [
    "### Broadcasting"
   ]
  },
  {
   "cell_type": "code",
   "execution_count": 111,
   "metadata": {},
   "outputs": [
    {
     "name": "stdout",
     "output_type": "stream",
     "text": [
      "Matriz\n",
      " [[ 1  2  3  4]\n",
      " [ 5  6  7  8]\n",
      " [ 9 10 11 12]]\n",
      "\n",
      "vector\n",
      " [0, 1, 0, 2]\n",
      "\n",
      "Broadcasting suma:\n",
      " [[ 1  3  3  6]\n",
      " [ 5  7  7 10]\n",
      " [ 9 11 11 14]]\n"
     ]
    }
   ],
   "source": [
    "# 3x4 matriz\n",
    "arrA = np.array([[1,2,3,4],[5,6,7,8],[9,10,11,12]])\n",
    "print(\"Matriz\\n\",arrA)\n",
    "#  4x1 vector\n",
    "arrB = [0,1,0,2]\n",
    "print(\"\\nvector\\n\",arrB)\n",
    "# distintas dimensiones, empleo del Broadcasting \n",
    "print(\"\\nBroadcasting suma:\\n\",arrA + arrB)"
   ]
  }
 ],
 "metadata": {
  "kernelspec": {
   "display_name": "Python 3",
   "language": "python",
   "name": "python3"
  },
  "language_info": {
   "codemirror_mode": {
    "name": "ipython",
    "version": 3
   },
   "file_extension": ".py",
   "mimetype": "text/x-python",
   "name": "python",
   "nbconvert_exporter": "python",
   "pygments_lexer": "ipython3",
   "version": "3.7.2"
  }
 },
 "nbformat": 4,
 "nbformat_minor": 2
}
