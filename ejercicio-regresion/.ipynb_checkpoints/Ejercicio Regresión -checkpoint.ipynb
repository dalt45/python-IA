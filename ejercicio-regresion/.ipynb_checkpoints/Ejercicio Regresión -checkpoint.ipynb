{
 "cells": [
  {
   "cell_type": "markdown",
   "metadata": {},
   "source": [
    "## Ejemplo para regresión"
   ]
  },
  {
   "cell_type": "code",
   "execution_count": 23,
   "metadata": {},
   "outputs": [],
   "source": [
    "%matplotlib inline\n",
    "import numpy as np\n",
    "import pandas as pd\n",
    "import matplotlib.pyplot as plt\n",
    "\n",
    "from adspy_shared_utilities import load_crime_dataset\n",
    "from sklearn.linear_model import LinearRegression\n",
    "from sklearn.linear_model import Ridge\n",
    "from sklearn.linear_model import Lasso\n",
    "\n",
    "from sklearn.model_selection import train_test_split\n",
    "X_crime, y_crime = load_crime_dataset()\n",
    "dataset = load_crime_dataset()"
   ]
  },
  {
   "cell_type": "code",
   "execution_count": 24,
   "metadata": {},
   "outputs": [
    {
     "data": {
      "text/plain": [
       "2"
      ]
     },
     "execution_count": 24,
     "metadata": {},
     "output_type": "execute_result"
    }
   ],
   "source": [
    "len(dataset)"
   ]
  },
  {
   "cell_type": "code",
   "execution_count": 25,
   "metadata": {},
   "outputs": [
    {
     "name": "stdout",
     "output_type": "stream",
     "text": [
      "<class 'pandas.core.frame.DataFrame'>\n"
     ]
    }
   ],
   "source": [
    "print(type(X_crime))"
   ]
  },
  {
   "cell_type": "code",
   "execution_count": 26,
   "metadata": {},
   "outputs": [
    {
     "name": "stdout",
     "output_type": "stream",
     "text": [
      "(1994, 88)\n"
     ]
    }
   ],
   "source": [
    "print(np.shape(X_crime))"
   ]
  },
  {
   "cell_type": "code",
   "execution_count": 27,
   "metadata": {},
   "outputs": [
    {
     "name": "stdout",
     "output_type": "stream",
     "text": [
      "(1994,)\n"
     ]
    }
   ],
   "source": [
    "print(np.shape(y_crime))"
   ]
  },
  {
   "cell_type": "code",
   "execution_count": 29,
   "metadata": {},
   "outputs": [
    {
     "name": "stdout",
     "output_type": "stream",
     "text": [
      "Index(['population', 'householdsize', 'agePct12t21', 'agePct12t29',\n",
      "       'agePct16t24', 'agePct65up', 'numbUrban', 'pctUrban', 'medIncome',\n",
      "       'pctWWage', 'pctWFarmSelf', 'pctWInvInc', 'pctWSocSec', 'pctWPubAsst',\n",
      "       'pctWRetire', 'medFamInc', 'perCapInc', 'NumUnderPov', 'PctPopUnderPov',\n",
      "       'PctLess9thGrade', 'PctNotHSGrad', 'PctBSorMore', 'PctUnemployed',\n",
      "       'PctEmploy', 'PctEmplManu', 'PctEmplProfServ', 'PctOccupManu',\n",
      "       'PctOccupMgmtProf', 'MalePctDivorce', 'MalePctNevMarr', 'FemalePctDiv',\n",
      "       'TotalPctDiv', 'PersPerFam', 'PctFam2Par', 'PctKids2Par',\n",
      "       'PctYoungKids2Par', 'PctTeen2Par', 'PctWorkMomYoungKids', 'PctWorkMom',\n",
      "       'NumKidsBornNeverMar', 'PctKidsBornNeverMar', 'NumImmig',\n",
      "       'PctImmigRecent', 'PctImmigRec5', 'PctImmigRec8', 'PctImmigRec10',\n",
      "       'PctRecentImmig', 'PctRecImmig5', 'PctRecImmig8', 'PctRecImmig10',\n",
      "       'PctSpeakEnglOnly', 'PctNotSpeakEnglWell', 'PctLargHouseFam',\n",
      "       'PctLargHouseOccup', 'PersPerOccupHous', 'PersPerOwnOccHous',\n",
      "       'PersPerRentOccHous', 'PctPersOwnOccup', 'PctPersDenseHous',\n",
      "       'PctHousLess3BR', 'MedNumBR', 'HousVacant', 'PctHousOccup',\n",
      "       'PctHousOwnOcc', 'PctVacantBoarded', 'PctVacMore6Mos', 'MedYrHousBuilt',\n",
      "       'PctHousNoPhone', 'PctWOFullPlumb', 'OwnOccLowQuart', 'OwnOccMedVal',\n",
      "       'OwnOccHiQuart', 'OwnOccQrange', 'RentLowQ', 'RentMedian', 'RentHighQ',\n",
      "       'RentQrange', 'MedRent', 'MedRentPctHousInc', 'MedOwnCostPctInc',\n",
      "       'MedOwnCostPctIncNoMtg', 'NumInShelters', 'NumStreet', 'PctForeignBorn',\n",
      "       'PctBornSameState', 'PctSameHouse85', 'PctSameCity85',\n",
      "       'PctSameState85'],\n",
      "      dtype='object')\n"
     ]
    }
   ],
   "source": [
    "print(X_crime.keys())"
   ]
  },
  {
   "cell_type": "code",
   "execution_count": 30,
   "metadata": {},
   "outputs": [],
   "source": [
    "X_train, X_test, y_train, y_test = train_test_split(X_crime,y_crime, random_state = 0)"
   ]
  },
  {
   "cell_type": "code",
   "execution_count": 32,
   "metadata": {},
   "outputs": [
    {
     "name": "stdout",
     "output_type": "stream",
     "text": [
      "(1495, 88)\n",
      "(499, 88)\n"
     ]
    }
   ],
   "source": [
    "print (np.shape(X_train))\n",
    "print (np.shape(X_test))"
   ]
  },
  {
   "cell_type": "markdown",
   "metadata": {},
   "source": [
    "# Regresión lineal"
   ]
  },
  {
   "cell_type": "code",
   "execution_count": 56,
   "metadata": {},
   "outputs": [],
   "source": [
    "##ENTRENAMIENTO\n",
    "modelo_lineal_entrenado = LinearRegression().fit(X_train,y_train)"
   ]
  },
  {
   "cell_type": "code",
   "execution_count": 58,
   "metadata": {},
   "outputs": [
    {
     "name": "stdout",
     "output_type": "stream",
     "text": [
      "metrica de entrenamiento 0.6731208442568581\n",
      "metrica de testeo 0.4955445228126263\n"
     ]
    }
   ],
   "source": [
    "##EVALUACION, metrica R2\n",
    "evaluacion_training = modelo_lineal_entrenado.score(X_train,y_train)\n",
    "evaluacion_test = modelo_lineal_entrenado.score(X_test,y_test)\n",
    "\n",
    "print(\"metrica de entrenamiento\", evaluacion_training)\n",
    "print(\"metrica de testeo\", evaluacion_test)"
   ]
  },
  {
   "cell_type": "code",
   "execution_count": 61,
   "metadata": {},
   "outputs": [],
   "source": [
    "coeficientes = modelo_lineal_entrenado.coef_\n",
    "intercepcion = modelo_lineal_entrenado.intercept_"
   ]
  },
  {
   "cell_type": "code",
   "execution_count": 63,
   "metadata": {},
   "outputs": [
    {
     "name": "stdout",
     "output_type": "stream",
     "text": [
      "Coefs:  [ 1.61892346e-03 -9.43009110e+01  1.36067510e+01 -3.13380670e+01\n",
      " -8.15482726e-02 -1.69455128e+01 -2.42730375e-03  1.53013232e+00\n",
      " -1.39193248e-02 -7.72112833e+00  2.28112354e+01 -5.65708295e+00\n",
      "  9.34751364e+00  2.06969566e-01 -7.43413626e+00  9.65856476e-03\n",
      "  4.38030290e-03  4.79754625e-03 -4.46469212e+00 -1.60907140e+01\n",
      "  8.82778012e+00 -5.06734503e-01 -1.42198055e+00  8.17551991e+00\n",
      " -3.87048268e+00 -3.54209213e+00  4.48758304e+00  9.30645715e+00\n",
      "  1.73644996e+02  1.18220766e+01  1.51120836e+02 -3.29613007e+02\n",
      " -1.35343395e+02  6.95380108e-01 -2.38369008e+01  2.77038981e+00\n",
      "  3.82248925e-01  4.38813358e+00 -1.06410851e+01 -4.92294176e-03\n",
      "  4.14031827e+01 -1.16206866e-03  1.18568968e+00  1.75418465e+00\n",
      " -3.68283678e+00  1.59679443e+00 -8.42180230e+00 -3.79703897e+01\n",
      "  4.74076990e+01 -2.50768374e+01 -2.88246410e-01 -3.65633234e+01\n",
      "  1.89516080e+01 -4.53336736e+01  6.82698598e+02  1.04478671e+02\n",
      " -3.28575414e+02 -3.14364068e+01  2.74053494e+01  5.12336432e+00\n",
      "  6.91580764e+01  1.98267157e-02 -6.12133638e-01  2.65335065e+01\n",
      "  1.00704633e+01 -1.58621594e+00  2.24025322e+00  7.38288450e+00\n",
      " -3.13915504e+01 -9.77773884e-05  5.01970945e-05 -3.48067770e-04\n",
      " -2.50217578e-04 -5.26610456e-01 -5.16564774e-01 -4.10464090e-01\n",
      "  1.16146366e-01  1.46167357e+00 -3.04019816e-01  2.43792841e+00\n",
      " -3.65615457e+01  1.41488917e-01  2.88800603e-01  1.77464865e+01\n",
      "  5.96587698e-01  1.98257510e+00 -1.36380442e-01 -1.85303461e+00]\n",
      "Intercep:  -1728.1306726040202\n"
     ]
    }
   ],
   "source": [
    "print (\"Coefs: \",coeficientes)\n",
    "print (\"Intercep: \", intercepcion)"
   ]
  },
  {
   "cell_type": "markdown",
   "metadata": {},
   "source": [
    "## Con Ridge"
   ]
  },
  {
   "cell_type": "code",
   "execution_count": 79,
   "metadata": {},
   "outputs": [],
   "source": [
    "linear_model_Ridge = Ridge(alpha= 0.10).fit(X_train,y_train)"
   ]
  },
  {
   "cell_type": "code",
   "execution_count": 80,
   "metadata": {},
   "outputs": [
    {
     "name": "stdout",
     "output_type": "stream",
     "text": [
      "metrica de entrenamiento 0.6731080555602355\n",
      "metrica de testeo 0.4961725501100025\n"
     ]
    }
   ],
   "source": [
    "evaluacion_training_ridge = linear_model_Ridge.score(X_train,y_train)\n",
    "evaluacion_test_ridge = linear_model_Ridge.score(X_test,y_test)\n",
    "\n",
    "print(\"metrica de entrenamiento\", evaluacion_training_ridge)\n",
    "print(\"metrica de testeo\", evaluacion_test_ridge)"
   ]
  },
  {
   "cell_type": "code",
   "execution_count": 81,
   "metadata": {},
   "outputs": [],
   "source": [
    "coeficientes_ridge = linear_model_Ridge.coef_\n",
    "intercepcion_ridge = linear_model_Ridge.intercept_"
   ]
  },
  {
   "cell_type": "code",
   "execution_count": 84,
   "metadata": {},
   "outputs": [
    {
     "name": "stdout",
     "output_type": "stream",
     "text": [
      "Coefs:  [ 1.63648480e-03 -8.06483867e+01  1.29660984e+01 -3.18916852e+01\n",
      "  8.41338232e-01 -1.69985880e+01 -2.44620711e-03  1.53656411e+00\n",
      " -1.36161370e-02 -7.63899553e+00  2.25011897e+01 -5.65594342e+00\n",
      "  9.26091848e+00  2.08106267e-01 -7.30927993e+00  9.46380622e-03\n",
      "  4.42759574e-03  4.81622787e-03 -4.42358478e+00 -1.61912759e+01\n",
      "  8.85964705e+00 -5.54822555e-01 -1.19510595e+00  8.41223312e+00\n",
      " -3.86237453e+00 -3.55584671e+00  4.55353987e+00  9.25007646e+00\n",
      "  1.67903876e+02  1.16301908e+01  1.44982769e+02 -3.18254915e+02\n",
      " -8.51703745e+01  6.53908349e-01 -2.38807421e+01  2.79019518e+00\n",
      "  4.07796312e-01  4.36277846e+00 -1.06580569e+01 -4.92592981e-03\n",
      "  4.12418756e+01 -1.16713972e-03  1.19311057e+00  1.73382631e+00\n",
      " -3.67153222e+00  1.57441249e+00 -9.33358105e+00 -3.66687861e+01\n",
      "  4.66697307e+01 -2.46036635e+01 -2.73817833e-01 -3.63230509e+01\n",
      "  1.58332226e+01 -4.17772603e+01  5.72418097e+02  1.46902386e+02\n",
      " -3.21664050e+02 -3.33341046e+01  2.77404250e+01  5.02466068e+00\n",
      "  6.87930756e+01  1.98011988e-02 -5.82000833e-01  2.85590904e+01\n",
      "  1.01341557e+01 -1.59876340e+00  2.28294313e+00  7.33883802e+00\n",
      " -3.13918886e+01 -3.52249195e-05  3.91827410e-05 -3.90385905e-04\n",
      " -1.98992015e-04 -5.25647687e-01 -5.12180503e-01 -4.09460057e-01\n",
      "  1.16187172e-01  1.45045967e+00 -2.38639739e-02  2.42127547e+00\n",
      " -3.66860597e+01  1.40560576e-01  2.90245918e-01  1.74742640e+01\n",
      "  5.58307959e-01  2.00217632e+00 -1.06427253e-01 -1.87774993e+00]\n",
      "Intercep:  -1844.9549997633117\n"
     ]
    }
   ],
   "source": [
    "print (\"Coefs: \",coeficientes_ridge)\n",
    "print (\"Intercep: \", intercepcion_ridge)"
   ]
  },
  {
   "cell_type": "code",
   "execution_count": null,
   "metadata": {},
   "outputs": [],
   "source": []
  }
 ],
 "metadata": {
  "kernelspec": {
   "display_name": "Python 3",
   "language": "python",
   "name": "python3"
  },
  "language_info": {
   "codemirror_mode": {
    "name": "ipython",
    "version": 3
   },
   "file_extension": ".py",
   "mimetype": "text/x-python",
   "name": "python",
   "nbconvert_exporter": "python",
   "pygments_lexer": "ipython3",
   "version": "3.7.2"
  }
 },
 "nbformat": 4,
 "nbformat_minor": 2
}
